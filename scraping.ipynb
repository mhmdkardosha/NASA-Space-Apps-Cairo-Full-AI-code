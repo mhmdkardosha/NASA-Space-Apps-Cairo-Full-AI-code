{
 "cells": [
  {
   "cell_type": "code",
   "execution_count": 30,
   "metadata": {},
   "outputs": [],
   "source": [
    "import requests # to send http requests\n",
    "from bs4 import BeautifulSoup # to parse html\n",
    "import pandas as pd\n"
   ]
  },
  {
   "cell_type": "code",
   "execution_count": 4,
   "metadata": {},
   "outputs": [
    {
     "data": {
      "text/plain": [
       "<Response [200]>"
      ]
     },
     "execution_count": 4,
     "metadata": {},
     "output_type": "execute_result"
    }
   ],
   "source": [
    "response = requests.get('https://exoplanetarchive.ipac.caltech.edu/docs/API_PS_columns.html')\n",
    "response"
   ]
  },
  {
   "cell_type": "code",
   "execution_count": 6,
   "metadata": {},
   "outputs": [],
   "source": [
    "soup = BeautifulSoup(response.text, 'html.parser')"
   ]
  },
  {
   "cell_type": "code",
   "execution_count": 8,
   "metadata": {},
   "outputs": [],
   "source": [
    "tables = soup.find_all('table')"
   ]
  },
  {
   "cell_type": "code",
   "execution_count": 18,
   "metadata": {},
   "outputs": [
    {
     "data": {
      "text/plain": [
       "'Database Column Name'"
      ]
     },
     "execution_count": 18,
     "metadata": {},
     "output_type": "execute_result"
    }
   ],
   "source": [
    "soup.find_all('table')[0].find_all('th')[0].text.strip()"
   ]
  },
  {
   "cell_type": "code",
   "execution_count": 35,
   "metadata": {},
   "outputs": [
    {
     "data": {
      "text/plain": [
       "'default_flag†'"
      ]
     },
     "execution_count": 35,
     "metadata": {},
     "output_type": "execute_result"
    }
   ],
   "source": [
    "soup.find_all('table')[0].find_all('tr')[1].find_all('td')[0].text.strip()"
   ]
  },
  {
   "cell_type": "code",
   "execution_count": 50,
   "metadata": {},
   "outputs": [
    {
     "data": {
      "text/plain": [
       "<tr class=\"column\" id=\"st_refname\">\n",
       "<td class=\"label\">st_refname†</td>\n",
       "<td class=\"label\">Stellar Parameter Reference</td>\n",
       "<td class=\"description\">\n",
       "Reference of publication used for given stellar parameter set </td>\n",
       "<td class=\"uncertainty\"> </td>\n",
       "<td class=\"label\"> </td>\n",
       "<td class=\"centered\">X</td>\n",
       "<td class=\"centered\"> </td>\n",
       "</tr>"
      ]
     },
     "execution_count": 50,
     "metadata": {},
     "output_type": "execute_result"
    }
   ],
   "source": [
    "soup.find_all('table')[6].find_all('tr')[1]"
   ]
  },
  {
   "cell_type": "code",
   "execution_count": 51,
   "metadata": {},
   "outputs": [],
   "source": [
    "all_dataframes = []\n",
    "\n",
    "for table in tables:\n",
    "    headers = []\n",
    "    rows = []\n",
    "    \n",
    "    for th in table.find_all('th'):\n",
    "        headers.append(th.text.strip())\n",
    "    \n",
    "    for row in table.find_all('tr'):\n",
    "        cells = row.find_all('td')\n",
    "        if len(cells) == len(headers):\n",
    "            row_data = [cell.text.strip() for cell in cells]\n",
    "            rows.append(row_data)\n",
    "    \n",
    "    if rows:\n",
    "        df = pd.DataFrame(rows, columns=headers)\n",
    "        all_dataframes.append(df)\n",
    "\n",
    "if all_dataframes:\n",
    "    combined_df = pd.concat(all_dataframes, ignore_index=True)"
   ]
  },
  {
   "cell_type": "code",
   "execution_count": 55,
   "metadata": {},
   "outputs": [],
   "source": [
    "combined_df = combined_df[[\"Table Label\", \"Description\"]]\n",
    "combined_df.to_csv('exoplanet_archive_columns.csv', index=False)"
   ]
  }
 ],
 "metadata": {
  "kernelspec": {
   "display_name": "Python 3",
   "language": "python",
   "name": "python3"
  },
  "language_info": {
   "codemirror_mode": {
    "name": "ipython",
    "version": 3
   },
   "file_extension": ".py",
   "mimetype": "text/x-python",
   "name": "python",
   "nbconvert_exporter": "python",
   "pygments_lexer": "ipython3",
   "version": "3.12.5"
  }
 },
 "nbformat": 4,
 "nbformat_minor": 2
}
